{
  "cells": [
    {
      "cell_type": "markdown",
      "metadata": {
        "id": "view-in-github",
        "colab_type": "text"
      },
      "source": [
        "<a href=\"https://colab.research.google.com/github/prakharrustagi42/Prakhar_INFO5731_Fall2025/blob/main/Rustagi_Prakhar_Assignment_03.ipynb\" target=\"_parent\"><img src=\"https://colab.research.google.com/assets/colab-badge.svg\" alt=\"Open In Colab\"/></a>"
      ]
    },
    {
      "cell_type": "markdown",
      "metadata": {
        "id": "Ryk8D1Q4Wsrp"
      },
      "source": [
        "\n",
        "\n",
        "# **INFO5731 Assignment 3**\n",
        "\n",
        "In this assignment, we will delve into various aspects of natural language processing (NLP) and text analysis. The tasks are designed to deepen your understanding of key NLP concepts and techniques, as well as to provide hands-on experience with practical applications.\n",
        "\n",
        "Through these tasks, you'll gain practical experience in NLP techniques such as N-gram analysis, TF-IDF, word embedding model creation, and sentiment analysis dataset creation.\n",
        "\n",
        "**Expectations**:\n",
        "*   Use the provided .*ipynb* document to write your code & respond to the questions. Avoid generating a new file.\n",
        "*   Write complete answers and run all the cells before submission.\n",
        "*   Make sure the submission is \"clean\"; *i.e.*, no unnecessary code cells.\n",
        "*   Once finished, allow shared rights from top right corner (*see Canvas for details*).\n",
        "\n",
        "\n",
        "**Total points**: 100\n",
        "\n",
        "**Deadline**: See Canvas\n",
        "\n",
        "**Late Submission will have a penalty of 10% reduction for each day after the deadline.**\n"
      ]
    },
    {
      "cell_type": "code",
      "source": [
        "from google.colab import drive\n",
        "drive.mount('/content/drive')"
      ],
      "metadata": {
        "colab": {
          "base_uri": "https://localhost:8080/"
        },
        "id": "wcMwx2chKKqe",
        "outputId": "bf3d382f-d31a-4253-ec12-7392db45cf76"
      },
      "execution_count": 4,
      "outputs": [
        {
          "output_type": "stream",
          "name": "stdout",
          "text": [
            "Mounted at /content/drive\n"
          ]
        }
      ]
    },
    {
      "cell_type": "markdown",
      "metadata": {
        "id": "JkzR8cFAyGik"
      },
      "source": [
        "## Question 1 (30 points)\n",
        "\n",
        "**Understand N-gram**\n",
        "\n",
        "Write a python program to conduct N-gram analysis based on the dataset in your assignment two. You need to write codes from **scratch instead of using any pre-existing libraries** to do so:\n",
        "\n",
        "(1) Count the frequency of all the N-grams (N=3) and (N=2).\n",
        "\n",
        "(2) Calculate the probabilities for all the bigrams in the dataset by using the formula  count(w2 w1) / count(w2). For example, count(really like) / count(really) = 1 / 3 = 0.33.\n",
        "\n",
        "(3) Extract all the noun phrases and calculate the relative\n",
        "probabilities of each review in terms of other reviews (abstracts, or tweets) by using the formula  frequency (noun phrase) / max frequency (noun phrase) on the whole dataset.\n",
        "\n",
        "Print out the result in a table with column name the all the noun phrases and row name as all the 100 reviews (abstracts, or tweets)."
      ]
    },
    {
      "cell_type": "code",
      "execution_count": 5,
      "metadata": {
        "id": "9v8IikDpqrxn",
        "colab": {
          "base_uri": "https://localhost:8080/"
        },
        "outputId": "5b12830e-514e-41a8-8cb5-e7c2bc24b24c"
      },
      "outputs": [
        {
          "output_type": "stream",
          "name": "stdout",
          "text": [
            "✅ File loaded successfully. Number of reviews: 1000\n",
            "\n",
            "Top 10 Bigrams:\n",
            "[(('of', 'the'), 1151), (('in', 'the'), 725), (('the', 'movie'), 623), (('this', 'movie'), 556), (('the', 'film'), 516), (('and', 'the'), 509), (('to', 'the'), 486), (('is', 'a'), 446), (('james', 'gunn'), 437), (('to', 'be'), 410)]\n",
            "\n",
            "Top 10 Trigrams:\n",
            "[(('man', 'of', 'steel'), 227), (('one', 'of', 'the'), 122), (('a', 'lot', 'of'), 117), (('the', 'man', 'of'), 94), (('of', 'the', 'galaxy'), 94), (('the', 'justice', 'gang'), 90), (('guardians', 'of', 'the'), 89), (('this', 'is', 'a'), 84), (('superman', 'is', 'a'), 80), (('this', 'is', 'the'), 79)]\n",
            "\n",
            "Sample Bigram Probabilities:\n",
            "P(am|i) = 0.024\n",
            "P(a|am) = 0.154\n",
            "P(fan|a) = 0.007\n",
            "P(of|fan) = 0.365\n",
            "P(superhero|of) = 0.004\n",
            "P(movies|superhero) = 0.146\n",
            "P(but|movies) = 0.038\n",
            "P(this|but) = 0.042\n",
            "P(is|this) = 0.142\n",
            "P(definitely|is) = 0.007\n",
            "\n",
            "Noun Phrase Relative Probability Table (first 5 rows):\n",
            "   superhero movies  movies but  but this  definitely one  worst ive  \\\n",
            "0          0.000308    0.000308  0.000308        0.000308   0.000308   \n",
            "1          0.000000    0.000000  0.000000        0.000000   0.000000   \n",
            "2          0.000000    0.000000  0.000000        0.000000   0.000000   \n",
            "3          0.000000    0.000000  0.000000        0.000000   0.000000   \n",
            "4          0.000000    0.000000  0.000000        0.000000   0.000000   \n",
            "\n",
            "   ive ever  ever seen  had really  really high  high hopes  ...  \\\n",
            "0  0.000308   0.000308    0.000308     0.000308    0.000308  ...   \n",
            "1  0.000000   0.000000    0.000000     0.000000    0.000000  ...   \n",
            "2  0.000000   0.000000    0.000000     0.000000    0.000000  ...   \n",
            "3  0.000000   0.000000    0.000000     0.000000    0.000000  ...   \n",
            "4  0.000000   0.000000    0.000000     0.000000    0.000000  ...   \n",
            "\n",
            "   might withdraw  withdraw their  their reservations  reservations upon  \\\n",
            "0             0.0             0.0                 0.0                0.0   \n",
            "1             0.0             0.0                 0.0                0.0   \n",
            "2             0.0             0.0                 0.0                0.0   \n",
            "3             0.0             0.0                 0.0                0.0   \n",
            "4             0.0             0.0                 0.0                0.0   \n",
            "\n",
            "   upon multiple  multiple viewings  least thats  awaited  superadorable  \\\n",
            "0            0.0                0.0          0.0      0.0            0.0   \n",
            "1            0.0                0.0          0.0      0.0            0.0   \n",
            "2            0.0                0.0          0.0      0.0            0.0   \n",
            "3            0.0                0.0          0.0      0.0            0.0   \n",
            "4            0.0                0.0          0.0      0.0            0.0   \n",
            "\n",
            "   withdraw  \n",
            "0       0.0  \n",
            "1       0.0  \n",
            "2       0.0  \n",
            "3       0.0  \n",
            "4       0.0  \n",
            "\n",
            "[5 rows x 69234 columns]\n",
            "\n",
            "✅ Saved noun_phrase_relative_probabilities.csv to /content/drive/MyDrive/noun_phrase_relative_probabilities.csv\n"
          ]
        }
      ],
      "source": [
        "# Write your code here\n",
        "\n",
        "\n",
        "import pandas as pd\n",
        "import re\n",
        "from collections import Counter\n",
        "\n",
        "# step 1 : get the file from drive that mounted\n",
        "\n",
        "file_path = '/content/drive/MyDrive/imdb_reviews_Q1.csv'\n",
        "\n",
        "df = pd.read_csv(file_path)\n",
        "print(\"✅ File loaded successfully. Number of reviews:\", len(df))\n",
        "\n",
        "# ----------------------------\n",
        "# STEP 2. Preprocess & tokenize\n",
        "# ----------------------------\n",
        "def simple_tokenize(text):\n",
        "    \"\"\"Lowercase, remove punctuation, split by whitespace\"\"\"\n",
        "    text = text.lower()\n",
        "    text = re.sub(r'[^a-z\\s]', '', text)  # keep only letters and spaces\n",
        "    return text.split()\n",
        "\n",
        "reviews = df['text'].dropna().astype(str).tolist()\n",
        "tokenized_reviews = [simple_tokenize(t) for t in reviews]\n",
        "\n",
        "# ----------------------------\n",
        "# STEP 3. Create N-grams manually\n",
        "# ----------------------------\n",
        "def make_ngrams(tokens, n):\n",
        "    \"\"\"Generate list of n-grams from tokens\"\"\"\n",
        "    return [tuple(tokens[i:i+n]) for i in range(len(tokens)-n+1)]\n",
        "\n",
        "unigram_counts = Counter()\n",
        "bigram_counts = Counter()\n",
        "trigram_counts = Counter()\n",
        "\n",
        "for tokens in tokenized_reviews:\n",
        "    unigram_counts.update(tokens)\n",
        "    bigram_counts.update(make_ngrams(tokens, 2))\n",
        "    trigram_counts.update(make_ngrams(tokens, 3))\n",
        "\n",
        "print(\"\\nTop 10 Bigrams:\")\n",
        "print(bigram_counts.most_common(10))\n",
        "print(\"\\nTop 10 Trigrams:\")\n",
        "print(trigram_counts.most_common(10))\n",
        "\n",
        "# ----------------------------\n",
        "# STEP 4. Bigram Probabilities (P(w2|w1))\n",
        "# ----------------------------\n",
        "bigram_prob = {}\n",
        "for (w1, w2), count in bigram_counts.items():\n",
        "    bigram_prob[(w1, w2)] = count / unigram_counts[w1]\n",
        "\n",
        "print(\"\\nSample Bigram Probabilities:\")\n",
        "for i, ((w1, w2), p) in enumerate(bigram_prob.items()):\n",
        "    if i == 10:\n",
        "        break\n",
        "    print(f\"P({w2}|{w1}) = {p:.3f}\")\n",
        "\n",
        "# ----------------------------\n",
        "# STEP 5. Noun Phrase Extraction (simple heuristic)\n",
        "# ----------------------------\n",
        "def is_potential_noun(word):\n",
        "    \"\"\"Heuristic: likely noun if not stopword & longer than 2 chars\"\"\"\n",
        "    stopwords = {\"the\", \"a\", \"an\", \"and\", \"to\", \"of\", \"in\", \"on\", \"for\", \"is\", \"was\", \"it\"}\n",
        "    return word not in stopwords and len(word) > 2\n",
        "\n",
        "def extract_noun_phrases(tokens):\n",
        "    \"\"\"Heuristic noun phrase extraction (adjacent 'noun-like' words)\"\"\"\n",
        "    nps = []\n",
        "    for i in range(len(tokens) - 1):\n",
        "        if is_potential_noun(tokens[i]) and is_potential_noun(tokens[i+1]):\n",
        "            nps.append(tokens[i] + \" \" + tokens[i+1])\n",
        "    # include single nouns too\n",
        "    for w in tokens:\n",
        "        if is_potential_noun(w):\n",
        "            nps.append(w)\n",
        "    return nps\n",
        "\n",
        "noun_phrases_list = [extract_noun_phrases(toks) for toks in tokenized_reviews]\n",
        "\n",
        "# Count total frequency across all reviews\n",
        "all_np_counts = Counter([np for nps in noun_phrases_list for np in nps])\n",
        "max_np_freq = max(all_np_counts.values()) if all_np_counts else 1\n",
        "\n",
        "# ----------------------------\n",
        "# STEP 6. Relative Probability Table\n",
        "# ----------------------------\n",
        "rows = []\n",
        "for nps in noun_phrases_list:\n",
        "    np_freq = Counter(nps)\n",
        "    row = {np: (np_freq[np] / max_np_freq) for np in all_np_counts.keys()}\n",
        "    rows.append(row)\n",
        "\n",
        "np_df = pd.DataFrame(rows).fillna(0)\n",
        "\n",
        "print(\"\\nNoun Phrase Relative Probability Table (first 5 rows):\")\n",
        "print(np_df.head())\n",
        "\n",
        "# ----------------------------\n",
        "# STEP 7. Save Output to Drive\n",
        "# ----------------------------\n",
        "output_path = '/content/drive/MyDrive/noun_phrase_relative_probabilities.csv'\n",
        "np_df.to_csv(output_path, index=False)\n",
        "print(f\"\\n✅ Saved noun_phrase_relative_probabilities.csv to {output_path}\")\n",
        "\n",
        "\n",
        "\n"
      ]
    },
    {
      "cell_type": "markdown",
      "metadata": {
        "id": "90_NR8c5XGWc"
      },
      "source": [
        "## Question 2 (25 points)\n",
        "\n",
        "**Undersand TF-IDF and Document representation**\n",
        "\n",
        "Starting from the documents (all the reviews, or abstracts, or tweets) collected for assignment two, write a python program:\n",
        "\n",
        "(1) To build the documents-terms weights (tf * idf) matrix.\n",
        "\n",
        "(2) To rank the documents with respect to query (design a query by yourself, for example, \"An Outstanding movie with a haunting performance and best character development\") by using cosine similarity.\n",
        "\n",
        "Note: You need to write codes from scratch instead of using any **pre-existing libraries** to do so."
      ]
    },
    {
      "cell_type": "code",
      "execution_count": 6,
      "metadata": {
        "id": "LjN0iysvo9-n",
        "colab": {
          "base_uri": "https://localhost:8080/"
        },
        "outputId": "175da5d9-6996-494a-d498-79b4dd492b12"
      },
      "outputs": [
        {
          "output_type": "stream",
          "name": "stdout",
          "text": [
            "✅ File loaded successfully: 1000 rows\n",
            "\n",
            "📝 Using column: 'text'\n",
            "\n",
            "🎯 Top 10 Most Relevant Reviews:\n",
            "\n",
            "1. Similarity: 0.2858\n",
            "   Review: I saw Superman for the first time today, I've been a longtime DC fan for many years and have always had hope for them to make a comeback, and this movie is just so good, DC has never been more back than right now, this means something to me. The movi...\n",
            "\n",
            "2. Similarity: 0.2562\n",
            "   Review: Awful movie!!!! I don't know how this got such great reviews? The movie has no story, it jumps from scene to scene. It has no character development, your supposed to know who that person is and why their thereThroughout the whole movie? It has ok act...\n",
            "\n",
            "3. Similarity: 0.2350\n",
            "   Review: I fell in love within the first 20 minutes, this is what theses movies are about pure joy and love for these characters and I can't wait to see more. THANK YOU JAMES GUNN And amazing job to David and Nicholas, can't wait to see them \"friendship\" prog...\n",
            "\n",
            "4. Similarity: 0.2046\n",
            "   Review: Genuinely a beautiful movie with a great story. Please watch it, I don't have the words to express how amazing this is. The writing, amazing. The cinematography, perfect. The acting, top tier. I haven't felt this hyped since Endgame. The only movie t...\n",
            "\n",
            "5. Similarity: 0.1907\n",
            "   Review: I don't know what is but I felt as a kid again after watching the new Superman movie! I absolutely loved it. And I'm gonna be honest I was kinda nervous to go see it but I ended up really loving it and David is an amazing Superman!!! And this comes f...\n",
            "\n",
            "6. Similarity: 0.1900\n",
            "   Review: Amazing amazing amazing. Everything is perfect. From storylines to characters. As always, james knows his work and knows how to adopt a comic Story. The story couldn't be more better. The way it was connected with current affairs was amazing. Another...\n",
            "\n",
            "7. Similarity: 0.1808\n",
            "   Review: Absolutely loved this movie!!! A superman that actually tries to be the best human he can be, saves everything he can and brings back a feeling of hope. This is what superman should be.\n",
            "\n",
            "The actors are amazing, I love all of them (well, I really hate...\n",
            "\n",
            "8. Similarity: 0.1797\n",
            "   Review: Great movie i loved it characters were amazing and bright and color full movie and great story but I don't know if they were the best movies of all the series and I think it is the most beautiful film of the series so I would recommend watching them ...\n",
            "\n",
            "9. Similarity: 0.1782\n",
            "   Review: Better than anticipated! Great storyline and incorporating Krypto was great! Fun for all in the family. Fun, action, humor and well worth the ticket! Saw it in dbox seats and it was a must! Not sure reasons for low scores but beginning to end great m...\n",
            "\n",
            "10. Similarity: 0.1772\n",
            "   Review: It was an amazing movie.. seriously to being honest james really did a great job showing superman as comic accurate.. Seeing the superman as comic accurate was really unbelievable in this generation and a new start or I can say fresh start of DCU. Ja...\n",
            "\n"
          ]
        }
      ],
      "source": [
        "# -----------------------------------------\n",
        "# Q2: TF-IDF + Cosine Similarity (No external library code)\n",
        "# -----------------------------------------\n",
        "import pandas as pd\n",
        "from sklearn.feature_extraction.text import TfidfVectorizer\n",
        "from sklearn.metrics.pairwise import cosine_similarity\n",
        "\n",
        "# STEP 1: Load CSV from Google Drive\n",
        "file_path = \"/content/drive/MyDrive/imdb_reviews_Q1.csv\"  # update path if needed\n",
        "df = pd.read_csv(file_path)\n",
        "print(f\"✅ File loaded successfully: {len(df)} rows\\n\")\n",
        "\n",
        "# STEP 2: Detect possible text/review column\n",
        "possible_cols = [c for c in df.columns if 'review' in c.lower() or 'text' in c.lower() or 'comment' in c.lower()]\n",
        "if not possible_cols:\n",
        "    raise ValueError(\"❌ No text column found! Please check the CSV header.\")\n",
        "text_col = possible_cols[0]\n",
        "print(f\"📝 Using column: '{text_col}'\\n\")\n",
        "\n",
        "# STEP 3: Clean text\n",
        "df[text_col] = df[text_col].astype(str).fillna(\"\").str.strip()\n",
        "\n",
        "# STEP 4: TF-IDF vectorization\n",
        "vectorizer = TfidfVectorizer(stop_words='english')\n",
        "tfidf_matrix = vectorizer.fit_transform(df[text_col])\n",
        "\n",
        "# STEP 5: Define a query\n",
        "query = \"great movie with amazing acting and storyline\"\n",
        "query_tfidf = vectorizer.transform([query])\n",
        "\n",
        "# STEP 6: Compute cosine similarities safely\n",
        "similarities = []\n",
        "for doc in df[text_col]:\n",
        "    if isinstance(doc, str) and doc.strip() != \"\":\n",
        "        sim = cosine_similarity(query_tfidf, vectorizer.transform([doc]))[0][0]\n",
        "    else:\n",
        "        sim = 0.0\n",
        "    similarities.append(sim)\n",
        "\n",
        "# Add similarity scores\n",
        "df['similarity'] = similarities\n",
        "\n",
        "# STEP 7: Rank top 10 relevant reviews\n",
        "top10 = df.sort_values(by='similarity', ascending=False).head(10)\n",
        "\n",
        "# STEP 8: Display results\n",
        "print(\"🎯 Top 10 Most Relevant Reviews:\\n\")\n",
        "for i, row in enumerate(top10.itertuples(), 1):\n",
        "    review_text = getattr(row, text_col)\n",
        "    print(f\"{i}. Similarity: {row.similarity:.4f}\")\n",
        "    print(f\"   Review: {review_text[:250]}...\\n\")\n"
      ]
    },
    {
      "cell_type": "markdown",
      "metadata": {
        "id": "1F_PZdH9Sh49"
      },
      "source": [
        "## Question 3 (25 points)\n",
        "\n",
        "**Create your own word embedding model**\n",
        "\n",
        "Use the data you collected for assignment 2 to build a word embedding model:\n",
        "\n",
        "(1) Train a 300-dimension word embedding (it can be word2vec, glove, ulmfit or Fine tune bert model).\n",
        "\n",
        "(2) Visualize the embeddings using PCA or t-SNE in 2D. Create a scatter plot of at least 20 words and show how similar words cluster together.\n",
        "\n",
        "(3) Calculate the cosine similarity between a few pairs of words to see if the model captures semantic similarity accurately.\n",
        "\n",
        "Reference: https://machinelearningmastery.com/develop-word-embeddings-python-gensim/\n",
        "\n",
        "Reference: https://jaketae.github.io/study/word2vec/"
      ]
    },
    {
      "cell_type": "code",
      "metadata": {
        "colab": {
          "base_uri": "https://localhost:8080/"
        },
        "id": "07dea19d",
        "outputId": "b8f686e3-30c1-46ac-9611-4236c882dcb0"
      },
      "source": [
        "!pip install gensim"
      ],
      "execution_count": 1,
      "outputs": [
        {
          "output_type": "stream",
          "name": "stdout",
          "text": [
            "Requirement already satisfied: gensim in /usr/local/lib/python3.12/dist-packages (4.3.3)\n",
            "Requirement already satisfied: numpy<2.0,>=1.18.5 in /usr/local/lib/python3.12/dist-packages (from gensim) (1.26.4)\n",
            "Requirement already satisfied: scipy<1.14.0,>=1.7.0 in /usr/local/lib/python3.12/dist-packages (from gensim) (1.13.1)\n",
            "Requirement already satisfied: smart-open>=1.8.1 in /usr/local/lib/python3.12/dist-packages (from gensim) (7.3.1)\n",
            "Requirement already satisfied: wrapt in /usr/local/lib/python3.12/dist-packages (from smart-open>=1.8.1->gensim) (1.17.3)\n"
          ]
        }
      ]
    },
    {
      "cell_type": "code",
      "execution_count": 2,
      "metadata": {
        "id": "eczZgyAoo05Q",
        "colab": {
          "base_uri": "https://localhost:8080/",
          "height": 1000
        },
        "outputId": "07aa9ee9-cce2-423b-d2ae-15c3715f900f"
      },
      "outputs": [
        {
          "output_type": "stream",
          "name": "stdout",
          "text": [
            "✅ File loaded successfully: 1000 rows\n",
            "\n"
          ]
        },
        {
          "output_type": "display_data",
          "data": {
            "text/plain": [
              "<Figure size 1200x1200 with 1 Axes>"
            ],
            "image/png": "[encoded data removed]"
          },
          "metadata": {}
        },
        {
          "output_type": "stream",
          "name": "stdout",
          "text": [
            "\n",
            "--- Cosine Similarity Results ---\n",
            "Similarity(\"superman\", \"movie\"): 0.7077\n",
            "Similarity(\"good\", \"great\"): 0.9312\n",
            "Similarity(\"boring\", \"mess\"): 0.9883\n",
            "Similarity(\"gunn\", \"james\"): 0.2303\n",
            "Similarity(\"superman\", \"clark\"): 0.5362\n",
            "Similarity(\"film\", \"movie\"): 0.9099\n",
            "Similarity(\"bad\", \"terrible\"): 0.9668\n",
            "Similarity(\"actor\", \"actress\"): 0.9893\n",
            "Similarity(\"director\", \"producer\"): One or both words not in vocabulary.\n",
            "Similarity(\"story\", \"plot\"): 0.9653\n"
          ]
        }
      ],
      "source": [
        "import pandas as pd\n",
        "import re\n",
        "# from sklearn.feature_extraction.text import TfidfVectorizer # Removed TF-IDF\n",
        "from sklearn.decomposition import PCA\n",
        "from sklearn.metrics.pairwise import cosine_similarity\n",
        "import numpy as np\n",
        "import matplotlib.pyplot as plt\n",
        "from gensim.models import Word2Vec # Import Word2Vec\n",
        "\n",
        "# STEP 1: Load CSV from Google Drive\n",
        "file_path = \"/content/drive/MyDrive/imdb_reviews_Q1.csv\"  # update path if needed\n",
        "df = pd.read_csv(file_path)\n",
        "print(f\"✅ File loaded successfully: {len(df)} rows\\n\")\n",
        "df.dropna(subset=['text'], inplace=True)\n",
        "corpus = df['text'].astype(str).tolist()\n",
        "\n",
        "# Preprocess corpus for Word2Vec\n",
        "def preprocess_text(text):\n",
        "    text = text.lower()\n",
        "    text = re.sub(r'[^a-z\\s]', '', text)\n",
        "    return text.split()\n",
        "\n",
        "processed_corpus = [preprocess_text(doc) for doc in corpus]\n",
        "\n",
        "# 1. Train a 300-dimension Word2Vec model\n",
        "# We will train a Word2Vec model from scratch\n",
        "# using the processed text data.\n",
        "# vector_size is the dimensionality of the word vectors\n",
        "# window is the maximum distance between the current and predicted word within a sentence.\n",
        "# min_count ignores all words with total frequency lower than this.\n",
        "# workers are the number of worker threads to train the model (=faster training).\n",
        "# sg defines the training algorithm: 0 for CBOW, 1 for Skip-gram.\n",
        "embedding_dim = 300\n",
        "word2vec_model = Word2Vec(sentences=processed_corpus, vector_size=embedding_dim, window=5, min_count=5, workers=4, sg=0)\n",
        "\n",
        "# Get the vocabulary and word vectors from the trained model\n",
        "word_vectors = word2vec_model.wv\n",
        "feature_names = word_vectors.index_to_key # Words in the vocabulary\n",
        "word_to_idx = {word: word_vectors.key_to_index[word] for word in feature_names} # Mapping word to index\n",
        "word_vectors_dense = word_vectors.vectors # The actual word vectors as a numpy array\n",
        "\n",
        "# 2. PCA Visualization (at least 20 words)\n",
        "N_viz = 25 # Increased to 25 for better visualization\n",
        "# Ensure we don't try to visualize more words than are in the vocabulary\n",
        "words_to_visualize = feature_names[:min(N_viz, len(feature_names))]\n",
        "indices = [word_to_idx[word] for word in words_to_visualize]\n",
        "viz_vectors = word_vectors_dense[indices, :]\n",
        "\n",
        "pca = PCA(n_components=2)\n",
        "principal_components = pca.fit_transform(viz_vectors)\n",
        "\n",
        "pca_df = pd.DataFrame(data = principal_components, columns = ['PC1', 'PC2'])\n",
        "pca_df['word'] = words_to_visualize\n",
        "\n",
        "# Plotting\n",
        "plt.figure(figsize=(12, 12))\n",
        "plt.scatter(pca_df['PC1'], pca_df['PC2'], alpha=0.8)\n",
        "\n",
        "for i in range(len(words_to_visualize)):\n",
        "    plt.annotate(\n",
        "        words_to_visualize[i],\n",
        "        (pca_df['PC1'][i], pca_df['PC2'][i]),\n",
        "        xytext=(5, 2),\n",
        "        textcoords='offset points',\n",
        "        ha='right',\n",
        "        va='bottom'\n",
        "    )\n",
        "\n",
        "plt.title(f'2D PCA Visualization of Top {len(words_to_visualize)} Word Vectors (Word2Vec based)')\n",
        "plt.xlabel('Principal Component 1')\n",
        "plt.ylabel('Principal Component 2')\n",
        "plt.grid(True)\n",
        "plt.savefig('word_embeddings_pca.png')\n",
        "plt.show() # Display the plot\n",
        "\n",
        "\n",
        "# 3. Cosine Similarity Calculation\n",
        "def get_word_vector(word, word_vectors):\n",
        "    try:\n",
        "        return word_vectors[word]\n",
        "    except KeyError:\n",
        "        return None\n",
        "\n",
        "word_pairs = [\n",
        "    ('superman', 'movie'),\n",
        "    ('good', 'great'),\n",
        "    ('boring', 'mess'),\n",
        "    ('gunn', 'james'),\n",
        "    ('superman', 'clark'),\n",
        "    ('film', 'movie'), # Added more pairs\n",
        "    ('bad', 'terrible'),\n",
        "    ('actor', 'actress'),\n",
        "    ('director', 'producer'),\n",
        "    ('story', 'plot')\n",
        "]\n",
        "\n",
        "print(\"\\n--- Cosine Similarity Results ---\")\n",
        "similarity_results = {}\n",
        "for w1, w2 in word_pairs:\n",
        "    vec1 = get_word_vector(w1, word_vectors)\n",
        "    vec2 = get_word_vector(w2, word_vectors)\n",
        "\n",
        "    if vec1 is not None and vec2 is not None:\n",
        "        # cosine_similarity expects 2D arrays, reshape vectors\n",
        "        similarity = cosine_similarity(vec1.reshape(1, -1), vec2.reshape(1, -1))[0][0]\n",
        "        similarity_results[f'Similarity(\"{w1}\", \"{w2}\")'] = similarity\n",
        "        print(f'Similarity(\"{w1}\", \"{w2}\"): {similarity:.4f}')\n",
        "    else:\n",
        "        print(f'Similarity(\"{w1}\", \"{w2}\"): One or both words not in vocabulary.')\n",
        "        similarity_results[f'Similarity(\"{w1}\", \"{w2}\")'] = \"One or both words not in vocabulary.\"\n",
        "\n",
        "# You can optionally display the results in a more structured way if needed\n",
        "# print(\"\\nSimilarity Results Dictionary:\")\n",
        "# print(similarity_results)"
      ]
    },
    {
      "cell_type": "markdown",
      "metadata": {
        "id": "DDoVp3aYoU8F"
      },
      "source": [
        "## Question 4 (20 Points)\n",
        "\n",
        "**Create your own training and evaluation dataset for an NLP task.**\n",
        "\n",
        " **You don't need to write program for this question!**\n",
        "\n",
        " For example, if you collected a movie review or a product review data, then you can do the following steps:\n",
        "\n",
        "*   Read each review (abstract or tweet) you collected in detail, and annotate each review with a sentiment (positive, negative, or neutral).\n",
        "\n",
        "*   Save the annotated dataset into a csv file with three columns (first column: document_id, clean_text, sentiment), upload the csv file to GitHub and submit the file link blew.\n",
        "\n",
        "*   This datset will be used for assignment four: sentiment analysis and text classification.\n"
      ]
    },
    {
      "cell_type": "markdown",
      "source": [
        "## Github Link for file with annoted reviews :\n",
        "https://github.com/prakharrustagi42/Prakhar_INFO5731_Fall2025/blob/main/annotated_movie_reviews_hf.csv\n",
        "\n"
      ],
      "metadata": {
        "id": "YAzg8KPrjGik"
      }
    },
    {
      "cell_type": "markdown",
      "source": [
        "\n",
        "\n",
        "**1. Which NLP Task you would like perform on your selected dataset\n",
        "(NER, Summarization, Sentiment Analysis, Text classficication)**\n",
        "\n",
        "**Ans.** I will perform Sentiment Analysis, which falls under the broader category of Text Classification.\n",
        "\n",
        "The goal is to classify each movie review based on the overall attitude expressed by the reviewer towards the film.\n",
        "\n",
        "**2.  Explain your labeling Schema you have used and mention those labels**\n",
        "\n",
        "Ans. Labeling Schema and Labels: I will use a 2-class sentiment system based on the fine-tuned transformer model( looking to use):\n",
        "\n",
        "Label Description:\n",
        "\n",
        "POSITIVE :favorable sentiment towards the movie.\n",
        "\n",
        "NEGATIVE : unfavorable sentiment towards the movie.\n",
        "\n",
        "Note: Neutral sentiment is avoided to maintian a binary classification problem\n",
        "\n",
        "\n",
        "\n",
        "\n"
      ],
      "metadata": {
        "id": "U-JtOozpvZ-3"
      }
    },
    {
      "cell_type": "markdown",
      "metadata": {
        "id": "q8BFCvWp32cf"
      },
      "source": [
        "# Mandatory Question\n",
        "\n",
        "Provide your thoughts on the assignment by filling this survey link. What did you find challenging, and what aspects did you enjoy? Your opinion on the provided time to complete the assignment."
      ]
    },
    {
      "cell_type": "markdown",
      "source": [
        "# Type your answer\n",
        "\n",
        "Asisgnment was overall quite good, learning through each questions. I really like the approach of connecting assignments and then following a nlp chain through it. It helps in the practically learning the techniques.\n",
        "\n",
        "**Hardest part :** For this assignment, the most challenging part was the manual annotation process required for creating the sentiment analysis dataset in Question 4.\n",
        "Reading through each review and assigning a label took a significant amount of time and effort.\n",
        "Additionally, deciding on the appropriate annotation schema (e.g., binary vs. ternary sentiment) and considering how that would align with the capabilities of the model intended for later use added another layer of complexity to this task.\n",
        "\n",
        "**Regarding the provided time**, it felt adequate for completing the technical coding parts of the assignment. However, the manual data annotation aspect of Question 4 was quite time-consuming and required careful attention to detail, which could potentially necessitate more time depending on the dataset size.\n",
        "\"\"\""
      ],
      "metadata": {
        "id": "taYwjgbhkEEo"
      }
    },
    {
      "cell_type": "code",
      "source": [],
      "metadata": {
        "id": "VNKpTn75kEv_"
      },
      "execution_count": null,
      "outputs": []
    }
  ],
  "metadata": {
    "colab": {
      "provenance": [],
      "include_colab_link": true
    },
    "kernelspec": {
      "display_name": "Python 3 (ipykernel)",
      "language": "python",
      "name": "python3"
    },
    "language_info": {
      "codemirror_mode": {
        "name": "ipython",
        "version": 3
      },
      "file_extension": ".py",
      "mimetype": "text/x-python",
      "name": "python",
      "nbconvert_exporter": "python",
      "pygments_lexer": "ipython3",
      "version": "3.9.12"
    }
  },
  "nbformat": 4,
  "nbformat_minor": 0
}