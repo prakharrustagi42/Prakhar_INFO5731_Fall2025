{
  "cells": [
    {
      "cell_type": "markdown",
      "metadata": {
        "id": "view-in-github",
        "colab_type": "text"
      },
      "source": [
        "<a href=\"https://colab.research.google.com/github/prakharrustagi42/Prakhar_INFO5731_Fall2025/blob/main/Rustagi_Prakhar_Exercise_01.ipynb\" target=\"_parent\"><img src=\"https://colab.research.google.com/assets/colab-badge.svg\" alt=\"Open In Colab\"/></a>"
      ]
    },
    {
      "cell_type": "markdown",
      "metadata": {
        "id": "DymRJbxDBCnf"
      },
      "source": [
        "# **INFO5731 Assiginment 1**\n",
        "\n",
        "This exercise covers a variety of fundamental concepts in Python and is designed to help students improve their coding skills and problem-solving abilities.\n",
        "\n",
        "**Expectations**:\n",
        "*   Students are expected to complete the exercise during lecture period to meet the active participation criteria of the course.\n",
        "*   Use the provided .*ipynb* document to write your code & respond to the questions. Avoid generating a new file.\n",
        "*   Write complete answers and run all the cells before submission.\n",
        "*   Make sure the submission is \"clean\"; *i.e.*, no unnecessary code cells.\n",
        "*   Once finished, allow shared rights from top right corner (*see Canvas for details*).\n",
        "\n",
        "**Total points**: 100\n",
        "\n",
        "**Deadline**: This Assiginment-1 is due by Sunday Midnight\n",
        "\n",
        "**Late submissions cannot be considered, and no requests will be answered. Manage your time accordingly.**\n"
      ]
    },
    {
      "cell_type": "markdown",
      "source": [
        "## Question 1\n",
        "Write a Python program that  prompts the user to input the length and width of a rectangle, and then calculates and displays the area of the rectangle."
      ],
      "metadata": {
        "id": "FBKvD6O_TY6e"
      }
    },
    {
      "cell_type": "code",
      "source": [
        "\n",
        "length = float(input(\"Enter the length of the rectangle: \"))\n",
        "width = float(input(\"Enter the width of the rectangle: \"))\n",
        "\n",
        "\n",
        "area = length * width\n",
        "\n",
        "\n",
        "print(\"The area of the rectangle is:\", area)"
      ],
      "metadata": {
        "id": "cikVKDXdTbzE",
        "colab": {
          "base_uri": "https://localhost:8080/"
        },
        "outputId": "5e4e4acb-fedb-4199-8ed5-0b0644549aa3"
      },
      "execution_count": 1,
      "outputs": [
        {
          "output_type": "stream",
          "name": "stdout",
          "text": [
            "Enter the length of the rectangle: 10\n",
            "Enter the width of the rectangle: 2.5\n",
            "The area of the rectangle is: 25.0\n"
          ]
        }
      ]
    },
    {
      "cell_type": "markdown",
      "source": [
        "## Question 2\n",
        "Create a Python program that interactively takes two numerical inputs from the user and swaps their values without utilizing an extra variable."
      ],
      "metadata": {
        "id": "E9RqrlwdTfvl"
      }
    },
    {
      "cell_type": "code",
      "source": [
        "# write your answer here\n",
        "a = float(input(\"Enter the first variable: \"))\n",
        "b = float(input(\"Enter the second variable: \"))\n",
        "\n",
        "a = a + b\n",
        "b = a - b\n",
        "a = a - b\n",
        "\n",
        "print(\"After swapping:\")\n",
        "print(\"First variable:\", a)\n",
        "print(\"Second variable:\", b)"
      ],
      "metadata": {
        "id": "4XvRknixTh1g",
        "colab": {
          "base_uri": "https://localhost:8080/"
        },
        "outputId": "474d36ce-ef42-407c-d2fc-75497012bc15"
      },
      "execution_count": 3,
      "outputs": [
        {
          "output_type": "stream",
          "name": "stdout",
          "text": [
            "Enter the first variable: 2\n",
            "Enter the second variable: 5\n",
            "After swapping:\n",
            "First variable: 5.0\n",
            "Second variable: 2.0\n"
          ]
        }
      ]
    },
    {
      "cell_type": "markdown",
      "metadata": {
        "id": "03jb4GZsBkBS"
      },
      "source": [
        "## Question 3\n",
        "Write a Python script to determine and print the length of a user-input string."
      ]
    },
    {
      "cell_type": "code",
      "execution_count": 5,
      "metadata": {
        "id": "YaGLbSHHB8Ej",
        "colab": {
          "base_uri": "https://localhost:8080/"
        },
        "outputId": "297ec33b-ee53-4f3a-a0ef-314dbb0341fb"
      },
      "outputs": [
        {
          "output_type": "stream",
          "name": "stdout",
          "text": [
            "Enter the input string : what is up\n",
            "The length of the input string is: 10\n"
          ]
        }
      ],
      "source": [
        "# write your answer here\n",
        "b = input(\"Enter the input string : \")\n",
        "length = len(b)\n",
        "print(\"The length of the input string is:\", length)\n"
      ]
    },
    {
      "cell_type": "markdown",
      "metadata": {
        "id": "jJDe71iLB616"
      },
      "source": [
        "## Question 4\n",
        "Construct a Python program that counts and displays the occurrences of each character in a given string.\n",
        "\n",
        "Sample String: 'openai.ai',\n",
        "\n",
        "Expected Result: {'a': 2, 'i': 2, '.': 1, 'o': 1, 'p': 1, 'e': 1, 'n': 1}"
      ]
    },
    {
      "cell_type": "code",
      "execution_count": 7,
      "metadata": {
        "id": "MtKskTzbCLaU",
        "colab": {
          "base_uri": "https://localhost:8080/"
        },
        "outputId": "95180fdd-84d7-412f-9999-bcb5815b409c"
      },
      "outputs": [
        {
          "output_type": "stream",
          "name": "stdout",
          "text": [
            "Enter the input string : openai.ai\n",
            "Expected Result: {'o': 1, 'p': 1, 'e': 1, 'n': 1, 'a': 2, 'i': 2, '.': 1}\n"
          ]
        }
      ],
      "source": [
        "# write your answer here\n",
        "b = input(\"Enter the input string : \")\n",
        "char_count = {}\n",
        "\n",
        "for char in b:\n",
        "    if char in char_count:\n",
        "        char_count[char] += 1\n",
        "    else:\n",
        "        char_count[char] = 1\n",
        "\n",
        "print(\"Expected Result:\", char_count)"
      ]
    },
    {
      "cell_type": "markdown",
      "metadata": {
        "id": "55W9AMdXCSpV"
      },
      "source": [
        "## Question 5\n",
        "Design a Python code to calculate the sum of all elements in a user-provided list."
      ]
    },
    {
      "cell_type": "code",
      "execution_count": 8,
      "metadata": {
        "id": "I57NXsauCec2",
        "colab": {
          "base_uri": "https://localhost:8080/"
        },
        "outputId": "301894e7-857c-4eda-f665-6bf47a706238"
      },
      "outputs": [
        {
          "output_type": "stream",
          "name": "stdout",
          "text": [
            "Enter numbers separated by commas: 1,2,3,4,5,6\n",
            "The sum of the list elements is: 21.0\n"
          ]
        }
      ],
      "source": [
        "\n",
        "numbers = input(\"Enter numbers separated by commas: \")\n",
        "\n",
        "num_list = [float(x.strip()) for x in numbers.split(\",\")]\n",
        "\n",
        "\n",
        "total = sum(num_list)\n",
        "\n",
        "\n",
        "print(\"The sum of the list elements is:\", total)"
      ]
    },
    {
      "cell_type": "markdown",
      "metadata": {
        "id": "4ulBZ6yhCi9F"
      },
      "source": [
        "## Question 6\n",
        "Write a Python program that modifies a given string by replacing all occurrences of its first character with '$', excluding the first character itself.\n",
        "\n",
        "\n",
        "Sample String : 'restart‘\n",
        "Expected Result : 'resta\\$t'"
      ]
    },
    {
      "cell_type": "code",
      "execution_count": 9,
      "metadata": {
        "id": "Fj0XhwbBCw2o",
        "colab": {
          "base_uri": "https://localhost:8080/"
        },
        "outputId": "e8666b3d-8134-4956-9107-78a65096dbbe"
      },
      "outputs": [
        {
          "output_type": "stream",
          "name": "stdout",
          "text": [
            "Enter a string: restart\n",
            "Modified string: resta$t\n"
          ]
        }
      ],
      "source": [
        "\n",
        "user_string = input(\"Enter a string: \")\n",
        "\n",
        "\n",
        "first_char = user_string[0]\n",
        "\n",
        "\n",
        "modified_string = first_char + user_string[1:].replace(first_char, '$')\n",
        "\n",
        "\n",
        "print(\"Modified string:\", modified_string)\n"
      ]
    },
    {
      "cell_type": "markdown",
      "source": [
        "## Question 7\n",
        "Write a Python program using a while loop to compute the factorial of a user-supplied number."
      ],
      "metadata": {
        "id": "qVXA3q7ET5JI"
      }
    },
    {
      "cell_type": "code",
      "source": [
        "\n",
        "num = int(input(\"Enter a non-negative integer: \"))\n",
        "\n",
        "\n",
        "factorial = 1\n",
        "counter = num\n",
        "\n",
        "\n",
        "if num < 0:\n",
        "    print(\"Factorial is not defined for negative numbers.\")\n",
        "else:\n",
        "\n",
        "    while counter > 1:\n",
        "        factorial *= counter\n",
        "        counter -= 1\n",
        "\n",
        "\n",
        "    print(f\"The factorial of {num} is: {factorial}\")\n"
      ],
      "metadata": {
        "id": "Lbt7R6UkT7BA",
        "colab": {
          "base_uri": "https://localhost:8080/"
        },
        "outputId": "b3763fef-621b-45c9-cfc2-eb0c63deb578"
      },
      "execution_count": 10,
      "outputs": [
        {
          "output_type": "stream",
          "name": "stdout",
          "text": [
            "Enter a non-negative integer: 5\n",
            "The factorial of 5 is: 120\n"
          ]
        }
      ]
    },
    {
      "cell_type": "markdown",
      "source": [
        "## Question 8\n",
        "Create a program that accepts a list of numbers as input and outputs a new list containing only the even numbers."
      ],
      "metadata": {
        "id": "6YfbzXMNT--R"
      }
    },
    {
      "cell_type": "code",
      "source": [
        "\n",
        "numbers = input(\"Enter numbers separated by commas: \")\n",
        "\n",
        "\n",
        "num_list = [int(x.strip()) for x in numbers.split(\",\")]\n",
        "\n",
        "\n",
        "even_numbers = [num for num in num_list if num % 2 == 0]\n",
        "\n",
        "\n",
        "print(\"Even numbers in the list:\", even_numbers)\n"
      ],
      "metadata": {
        "id": "54q7wMQPUAKu",
        "colab": {
          "base_uri": "https://localhost:8080/"
        },
        "outputId": "8e871f65-4b34-48ac-c166-19a028adb936"
      },
      "execution_count": 11,
      "outputs": [
        {
          "output_type": "stream",
          "name": "stdout",
          "text": [
            "Enter numbers separated by commas: 1,1,2,3,4,5\n",
            "Even numbers in the list: [2, 4]\n"
          ]
        }
      ]
    },
    {
      "cell_type": "markdown",
      "metadata": {
        "id": "_bIP7s1MCzue"
      },
      "source": [
        "## Question 9\n",
        "Design a Python function to check if a number is prime.\n"
      ]
    },
    {
      "cell_type": "code",
      "execution_count": 13,
      "metadata": {
        "id": "w79QilHXD3Mg",
        "colab": {
          "base_uri": "https://localhost:8080/"
        },
        "outputId": "34995c7b-59a1-4fdb-8e11-fcb6cd66d4b3"
      },
      "outputs": [
        {
          "output_type": "stream",
          "name": "stdout",
          "text": [
            "Enter a number: 18\n",
            "18 is not a prime number.\n"
          ]
        }
      ],
      "source": [
        "\n",
        "def is_prime(n):\n",
        "    if n <= 1:\n",
        "        return False\n",
        "    if n == 2:\n",
        "        return True\n",
        "    if n % 2 == 0:\n",
        "        return False\n",
        "\n",
        "\n",
        "    i = 3\n",
        "    while i * i <= n:\n",
        "        if n % i == 0:\n",
        "            return False\n",
        "        i += 2\n",
        "    return True\n",
        "\n",
        "\n",
        "num = int(input(\"Enter a number: \"))\n",
        "if is_prime(num):\n",
        "    print(f\"{num} is a prime number.\")\n",
        "else:\n",
        "    print(f\"{num} is not a prime number.\")\n"
      ]
    },
    {
      "cell_type": "markdown",
      "metadata": {
        "id": "xCa2bK9aD4Q3"
      },
      "source": [
        "## Question 10\n",
        "Write a Python program to concatenate following dictionaries to create a new one.\n",
        "\n",
        "Sample Dictionary : dic1={1:10, 2:20}, dic2={3:30, 4:40}, dic3={5:50,6:60},\n",
        "\n",
        "Expected Result : {1: 10, 2: 20, 3: 30, 4: 40, 5: 50, 6: 60}\n"
      ]
    },
    {
      "cell_type": "code",
      "execution_count": 14,
      "metadata": {
        "id": "_z4aLqAbEET1",
        "colab": {
          "base_uri": "https://localhost:8080/"
        },
        "outputId": "dcfcd065-5c41-436b-81bc-a9c2580ab9bf"
      },
      "outputs": [
        {
          "output_type": "stream",
          "name": "stdout",
          "text": [
            "Concatenated dictionary: {1: 10, 2: 20, 3: 30, 4: 40, 5: 50, 6: 60}\n"
          ]
        }
      ],
      "source": [
        "\n",
        "dic1 = {1: 10, 2: 20}\n",
        "dic2 = {3: 30, 4: 40}\n",
        "dic3 = {5: 50, 6: 60}\n",
        "\n",
        "\n",
        "new_dict = {**dic1, **dic2, **dic3}\n",
        "\n",
        "print(\"Concatenated dictionary:\", new_dict)\n"
      ]
    },
    {
      "cell_type": "markdown",
      "source": [
        "## Question 11\n",
        "Design a Python function that takes a tuple of integers as input and returns the largest and smallest elements."
      ],
      "metadata": {
        "id": "bkyZ2xSZUOst"
      }
    },
    {
      "cell_type": "code",
      "source": [
        "\n",
        "def min_max_tuple(numbers):\n",
        "    if not numbers:\n",
        "        return None, None\n",
        "    smallest = min(numbers)\n",
        "    largest = max(numbers)\n",
        "    return largest, smallest\n",
        "\n",
        "\n",
        "num_tuple = input(\"Enter a tuple of integers separated by commas: \")\n",
        "num_tuple = tuple(int(x.strip()) for x in num_tuple.split(\",\"))\n",
        "\n",
        "largest, smallest = min_max_tuple(num_tuple)\n",
        "print(f\"Largest element: {largest}\")\n",
        "print(f\"Smallest element: {smallest}\")\n"
      ],
      "metadata": {
        "id": "3FdLRBKOUQEd",
        "colab": {
          "base_uri": "https://localhost:8080/"
        },
        "outputId": "595c9ccf-aea0-4969-d52c-b252f4a116c2"
      },
      "execution_count": 16,
      "outputs": [
        {
          "output_type": "stream",
          "name": "stdout",
          "text": [
            "Enter a tuple of integers separated by commas: 2,3,4,5,6\n",
            "Largest element: 6\n",
            "Smallest element: 2\n"
          ]
        }
      ]
    },
    {
      "cell_type": "markdown",
      "source": [
        "## Question 12\n",
        "Write a Python program that counts the frequency of each character in a given string and stores it in a dictionary."
      ],
      "metadata": {
        "id": "O0TVi3gKUTpp"
      }
    },
    {
      "cell_type": "code",
      "source": [
        "\n",
        "user_string = input(\"Enter a string: \")\n",
        "\n",
        "\n",
        "char_freq = {}\n",
        "\n",
        "\n",
        "for char in user_string:\n",
        "    if char in char_freq:\n",
        "        char_freq[char] += 1\n",
        "    else:\n",
        "        char_freq[char] = 1\n",
        "\n",
        "\n",
        "print(\"Character frequency:\", char_freq)\n"
      ],
      "metadata": {
        "id": "lAtfSfZXUU-h",
        "colab": {
          "base_uri": "https://localhost:8080/"
        },
        "outputId": "9d743309-f027-434d-a2ff-7b0c9c44097c"
      },
      "execution_count": 17,
      "outputs": [
        {
          "output_type": "stream",
          "name": "stdout",
          "text": [
            "Enter a string: prakhar\n",
            "Character frequency: {'p': 1, 'r': 2, 'a': 2, 'k': 1, 'h': 1}\n"
          ]
        }
      ]
    },
    {
      "cell_type": "markdown",
      "metadata": {
        "id": "0v48Vqa7FrQh"
      },
      "source": [
        "## Question 13\n",
        "Implement a Python script to identify duplicate elements in a provided array of integers. Return -1 if there are no duplicates."
      ]
    },
    {
      "cell_type": "code",
      "execution_count": 19,
      "metadata": {
        "id": "7WEmgq-DF2P1",
        "colab": {
          "base_uri": "https://localhost:8080/"
        },
        "outputId": "44ca03b8-769f-4b6f-d8b5-e95c058c6201"
      },
      "outputs": [
        {
          "output_type": "stream",
          "name": "stdout",
          "text": [
            "Enter numbers separated by commas: 2,2,2,4,6,5,5\n",
            "Duplicate elements: [2, 5]\n"
          ]
        }
      ],
      "source": [
        "\n",
        "numbers = input(\"Enter numbers separated by commas: \")\n",
        "\n",
        "\n",
        "num_list = [int(x.strip()) for x in numbers.split(\",\")]\n",
        "\n",
        "\n",
        "count_dict = {}\n",
        "duplicates = []\n",
        "\n",
        "for num in num_list:\n",
        "    if num in count_dict:\n",
        "        count_dict[num] += 1\n",
        "    else:\n",
        "        count_dict[num] = 1\n",
        "\n",
        "\n",
        "for num, count in count_dict.items():\n",
        "    if count > 1:\n",
        "        duplicates.append(num)\n",
        "\n",
        "\n",
        "if duplicates:\n",
        "    print(\"Duplicate elements:\", duplicates)\n",
        "else:\n",
        "    print(-1)\n"
      ]
    },
    {
      "cell_type": "markdown",
      "metadata": {
        "id": "vD5PYLMuGga_"
      },
      "source": [
        "## Question 14\n",
        "Write a Python script to find the common elements between two lists."
      ]
    },
    {
      "cell_type": "code",
      "execution_count": 20,
      "metadata": {
        "id": "t0D5kdJUGjjw",
        "colab": {
          "base_uri": "https://localhost:8080/"
        },
        "outputId": "477e446e-d47c-4591-ebaa-736180526a2a"
      },
      "outputs": [
        {
          "output_type": "stream",
          "name": "stdout",
          "text": [
            "Enter the first list of numbers separated by commas: 2,4,5,6\n",
            "Enter the second list of numbers separated by commas: 1,2,3,4\n",
            "Common elements: [2, 4]\n"
          ]
        }
      ],
      "source": [
        "\n",
        "list1 = input(\"Enter the first list of numbers separated by commas: \")\n",
        "list2 = input(\"Enter the second list of numbers separated by commas: \")\n",
        "\n",
        "\n",
        "list1 = [int(x.strip()) for x in list1.split(\",\")]\n",
        "list2 = [int(x.strip()) for x in list2.split(\",\")]\n",
        "\n",
        "common_elements = list(set(list1) & set(list2))\n",
        "\n",
        "print(\"Common elements:\", common_elements)\n"
      ]
    },
    {
      "cell_type": "markdown",
      "metadata": {
        "id": "uHkd-y5VhVWC"
      },
      "source": [
        "## Question 15\n",
        "Write a Python program to randomly divide the students in this class into maximum of eight groups for term projects, each group should have at least 4 students but no more than 6 students (including 6).\n",
        "\n",
        "Here is the students list:\n",
        "\n",
        "student_list_spring_2024=[rb0846,\n",
        "ac1964,\n",
        "hc0612,\n",
        "md0912,\n",
        "ad1198,\n",
        "md0894,\n",
        "md0825,\n",
        "vg0598,\n",
        "vg0433,\n",
        "mh1068,\n",
        "yj0173,\n",
        "pk0553,\n",
        "tk0411,\n",
        "srk0204,\n",
        "sk2922,\n",
        "sk2936,\n",
        "mk1302,\n",
        "mk1317,\n",
        "tk0412,\n",
        "vk0656,\n",
        "sm2985,\n",
        "mm2372,\n",
        "un0045,\n",
        "an0892,\n",
        "sn0913,\n",
        "gp0252,\n",
        "ap1484,\n",
        "mr1765,\n",
        "sr1385,\n",
        "sr1335,\n",
        "hs0665,\n",
        "ms2060,\n",
        "gt0217,\n",
        "nt0385,\n",
        "tv0186,\n",
        "sv1394,\n",
        "sv1752,\n",
        "sv1555,\n",
        "sy0594\n",
        "]\n"
      ]
    },
    {
      "cell_type": "code",
      "execution_count": 22,
      "metadata": {
        "id": "3iGbmcOBhTwy",
        "colab": {
          "base_uri": "https://localhost:8080/"
        },
        "outputId": "c0abbd92-582b-4a96-c678-6f9784df3e7e"
      },
      "outputs": [
        {
          "output_type": "stream",
          "name": "stdout",
          "text": [
            "Group 1 (5 students): ['md0894', 'mh1068', 'tv0186', 'un0045', 'hc0612']\n",
            "Group 2 (5 students): ['gt0217', 'sv1394', 'sv1555', 'ms2060', 'gp0252']\n",
            "Group 3 (5 students): ['sk2936', 'sn0913', 'sr1385', 'mm2375', 'sk2922']\n",
            "Group 4 (5 students): ['yj0173', 'mk1317', 'pk0553', 'srk0204', 'ac1964']\n",
            "Group 5 (5 students): ['nt0385', 'md0825', 'sy0594', 'md0912', 'mr1765']\n",
            "Group 6 (5 students): ['sm2985', 'sr1335', 'vk0656', 'ad1198', 'an0892']\n",
            "Group 7 (5 students): ['tk0412', 'ap1484', 'rb0846', 'hs0665', 'tk0411']\n",
            "Group 8 (4 students): ['vg0598', 'mk1302', 'sv1752', 'vg0433']\n"
          ]
        }
      ],
      "source": [
        "import random\n",
        "import math\n",
        "\n",
        "student_list_spring_2024 = [\n",
        "    \"rb0846\", \"ac1964\", \"hc0612\", \"md0912\", \"ad1198\", \"md0894\", \"md0825\",\n",
        "    \"vg0598\", \"vg0433\", \"mh1068\", \"yj0173\", \"pk0553\", \"tk0411\", \"srk0204\",\n",
        "    \"sk2922\", \"sk2936\", \"mk1302\", \"mk1317\", \"tk0412\", \"vk0656\", \"sm2985\",\n",
        "    \"mm2375\", \"un0045\", \"an0892\", \"sn0913\", \"gp0252\", \"ap1484\", \"mr1765\",\n",
        "    \"sr1385\", \"sr1335\", \"hs0665\", \"ms2060\", \"gt0217\", \"nt0385\", \"tv0186\",\n",
        "    \"sv1394\", \"sv1752\", \"sv1555\", \"sy0594\"\n",
        "]\n",
        "\n",
        "random.shuffle(student_list_spring_2024)\n",
        "\n",
        "min_size = 4\n",
        "max_size = 6\n",
        "total_students = len(student_list_spring_2024)\n",
        "\n",
        "num_groups = min(8, math.ceil(total_students / min_size))\n",
        "\n",
        "base_size = total_students // num_groups\n",
        "extra = total_students % num_groups\n",
        "\n",
        "groups = []\n",
        "start = 0\n",
        "for i in range(num_groups):\n",
        "    group_size = base_size + 1 if i < extra else base_size\n",
        "    groups.append(student_list_spring_2024[start:start+group_size])\n",
        "    start += group_size\n",
        "\n",
        "for idx, group in enumerate(groups, 1):\n",
        "    print(f\"Group {idx} ({len(group)} students): {group}\")\n"
      ]
    },
    {
      "cell_type": "markdown",
      "metadata": {
        "id": "fmZ9vX20Qs3d"
      },
      "source": [
        "## Question 16\n",
        "Create a program that takes a positive integer 'n' as input and prints the count of even numbers from 1 to 'n'. Optimize the loop using the continue statement."
      ]
    },
    {
      "cell_type": "code",
      "execution_count": 23,
      "metadata": {
        "id": "W8Jw6sWMQs3d",
        "colab": {
          "base_uri": "https://localhost:8080/"
        },
        "outputId": "cdd7d677-cf38-4b1b-f0f2-6829cc50fcd8"
      },
      "outputs": [
        {
          "output_type": "stream",
          "name": "stdout",
          "text": [
            "Enter a positive integer: 98\n",
            "Count of even numbers from 1 to 98 is: 49\n"
          ]
        }
      ],
      "source": [
        "# write your answer here\n",
        "n = int(input(\"Enter a positive integer: \"))\n",
        "count = 0\n",
        "for i in range(1, n+1):\n",
        "    if i % 2 != 0:\n",
        "        continue\n",
        "    count += 1\n",
        "print(\"Count of even numbers from 1 to\", n, \"is:\", count)\n"
      ]
    },
    {
      "cell_type": "markdown",
      "metadata": {
        "id": "hvq4APMhQs3d"
      },
      "source": [
        "## Question 17\n",
        "Develop a Python function called 'count_vowels' that takes a string as input and returns the count of vowels (both lowercase and uppercase) present in the string, ignoring spaces and non-alphabetic characters."
      ]
    },
    {
      "cell_type": "code",
      "execution_count": 24,
      "metadata": {
        "id": "ZnoxhSglQs3d",
        "colab": {
          "base_uri": "https://localhost:8080/"
        },
        "outputId": "0ad18538-7ac5-49d7-9220-327e8e242c6a"
      },
      "outputs": [
        {
          "output_type": "stream",
          "name": "stdout",
          "text": [
            "Enter a string: prakharrustagiismyname\n",
            "Number of vowels: 8\n"
          ]
        }
      ],
      "source": [
        "# write your answer here\n",
        "def count_vowels(s):\n",
        "    vowels = \"aeiouAEIOU\"\n",
        "    return sum(1 for char in s if char.isalpha() and char in vowels)\n",
        "\n",
        "text = input(\"Enter a string: \")\n",
        "print(\"Number of vowels:\", count_vowels(text))\n"
      ]
    },
    {
      "cell_type": "markdown",
      "source": [
        "## Question 18\n",
        "Create a custom exception named ValueTooSmallError in Python. Write a program that takes user input for an age, and if the entered age is less than 18, raise the ValueTooSmallError with an appropriate error message."
      ],
      "metadata": {
        "id": "55FWoSJPVVM6"
      }
    },
    {
      "cell_type": "code",
      "source": [
        "# write your answer here\n",
        "class ValueTooSmallError(Exception):\n",
        "    pass\n",
        "\n",
        "age = int(input(\"Enter your age: \"))\n",
        "if age < 18:\n",
        "    raise ValueTooSmallError(\"Age must be at least 18.\")\n",
        "print(\"Age accepted:\", age)\n"
      ],
      "metadata": {
        "id": "hwtr1wZmVX5A",
        "colab": {
          "base_uri": "https://localhost:8080/"
        },
        "outputId": "0332bdf0-0321-491f-def3-897bdf671d5a"
      },
      "execution_count": 30,
      "outputs": [
        {
          "output_type": "stream",
          "name": "stdout",
          "text": [
            "Enter your age: 21\n",
            "Age accepted: 21\n"
          ]
        }
      ]
    },
    {
      "cell_type": "markdown",
      "source": [
        "## Question 19\n",
        "Develop a script that reverses a given string without using built-in reverse functions."
      ],
      "metadata": {
        "id": "Q9ecagcaVazW"
      }
    },
    {
      "cell_type": "code",
      "source": [
        "# write your answer here\n",
        "s = input(\"Enter a string: \")\n",
        "reversed_s = \"\"\n",
        "for char in s:\n",
        "    reversed_s = char + reversed_s\n",
        "print(\"Reversed string:\", reversed_s)\n"
      ],
      "metadata": {
        "id": "gycgckoAVZjR",
        "colab": {
          "base_uri": "https://localhost:8080/"
        },
        "outputId": "3606b202-8ece-44b0-bf36-f80a9b9fe2fb"
      },
      "execution_count": 31,
      "outputs": [
        {
          "output_type": "stream",
          "name": "stdout",
          "text": [
            "Enter a string: my name is prakhar\n",
            "Reversed string: rahkarp si eman ym\n"
          ]
        }
      ]
    },
    {
      "cell_type": "markdown",
      "source": [
        "## Question 20\n",
        "Implement a Python script to generate a random password of a specified length."
      ],
      "metadata": {
        "id": "ZFG6RibifMLu"
      }
    },
    {
      "cell_type": "code",
      "source": [
        "# write your answer here\n",
        "import random\n",
        "import string\n",
        "\n",
        "length = int(input(\"Enter the desired password length: \"))\n",
        "characters = string.ascii_letters + string.digits + string.punctuation\n",
        "password = \"\".join(random.choice(characters) for _ in range(length))\n",
        "print(\"Generated password:\", password)\n"
      ],
      "metadata": {
        "id": "BFVrkEi9fNiD",
        "colab": {
          "base_uri": "https://localhost:8080/"
        },
        "outputId": "af652d9f-5e06-40cf-bfd2-0c254e49df93"
      },
      "execution_count": 32,
      "outputs": [
        {
          "output_type": "stream",
          "name": "stdout",
          "text": [
            "Enter the desired password length: 15\n",
            "Generated password: D*n!F?\\JYu\\zr>)\n"
          ]
        }
      ]
    },
    {
      "cell_type": "markdown",
      "source": [
        "# Try these questions"
      ],
      "metadata": {
        "id": "6SmvS7nSfbj8"
      }
    },
    {
      "cell_type": "markdown",
      "source": [
        "(21) Define a base class called 'Vehicle' with attributes make and model. Create a derived class Car that inherits from Vehicle and has an additional attribute 'num_doors'. Demonstrate an example of creating an instance of the 'Car' class and accessing its attributes."
      ],
      "metadata": {
        "id": "cboAr5pEWUf5"
      }
    },
    {
      "cell_type": "code",
      "source": [
        "class Vehicle:\n",
        "    def __init__(self, make, model):\n",
        "        self.make = make\n",
        "        self.model = model\n",
        "\n",
        "class Car(Vehicle):\n",
        "    def __init__(self, make, model, num_doors):\n",
        "        super().__init__(make, model)\n",
        "        self.num_doors = num_doors\n",
        "\n",
        "my_car = Car(\"Toyota\", \"Corolla\", 4)\n",
        "print(\"Make:\", my_car.make)\n",
        "print(\"Model:\", my_car.model)\n",
        "print(\"Number of doors:\", my_car.num_doors)\n",
        "\n",
        "\n"
      ],
      "metadata": {
        "id": "phs9gciMWWAW",
        "colab": {
          "base_uri": "https://localhost:8080/"
        },
        "outputId": "90720f7a-178d-409d-f792-1f575aa115de"
      },
      "execution_count": 33,
      "outputs": [
        {
          "output_type": "stream",
          "name": "stdout",
          "text": [
            "Make: Toyota\n",
            "Model: Corolla\n",
            "Number of doors: 4\n"
          ]
        }
      ]
    },
    {
      "cell_type": "markdown",
      "source": [
        "(22) Create a class called 'Shape' with a method calculate_area(). Implement two derived classes 'Circle' and 'Rectangle' that inherit from Shape and override the calculate_area() method. Demonstrate polymorphism by creating instances of both derived classes and calling the calculate_area() method."
      ],
      "metadata": {
        "id": "J8HHefNtePwd"
      }
    },
    {
      "cell_type": "code",
      "source": [
        "# write your answer here\n",
        "import math\n",
        "\n",
        "class Shape:\n",
        "    def calculate_area(self):\n",
        "        pass\n",
        "\n",
        "class Circle(Shape):\n",
        "    def __init__(self, radius):\n",
        "        self.radius = radius\n",
        "    def calculate_area(self):\n",
        "        return math.pi * self.radius ** 2\n",
        "\n",
        "class Rectangle(Shape):\n",
        "    def __init__(self, length, width):\n",
        "        self.length = length\n",
        "        self.width = width\n",
        "    def calculate_area(self):\n",
        "        return self.length * self.width\n",
        "\n",
        "circle = Circle(5)\n",
        "rectangle = Rectangle(4, 6)\n",
        "\n",
        "shapes = [circle, rectangle]\n",
        "for shape in shapes:\n",
        "    print(\"Area:\", shape.calculate_area())\n"
      ],
      "metadata": {
        "id": "btnMmUZDeRhS",
        "colab": {
          "base_uri": "https://localhost:8080/"
        },
        "outputId": "de9a653b-0f25-4ded-a94a-411aaabdb28a"
      },
      "execution_count": 34,
      "outputs": [
        {
          "output_type": "stream",
          "name": "stdout",
          "text": [
            "Area: 78.53981633974483\n",
            "Area: 24\n"
          ]
        }
      ]
    },
    {
      "cell_type": "markdown",
      "source": [
        "(23) Write a Python program that prompts the user to enter two numbers and perform a division operation. Handle exceptions for both zero division and invalid input (non-numeric input). Display appropriate error messages for each type of exception and ensure the program does not crash due to these errors."
      ],
      "metadata": {
        "id": "z0oqEAlTeMUS"
      }
    },
    {
      "cell_type": "code",
      "source": [
        "# write your answer here\n",
        "try:\n",
        "    num1 = float(input(\"Enter the first number: \"))\n",
        "    num2 = float(input(\"Enter the second number: \"))\n",
        "    result = num1 / num2\n",
        "except ValueError:\n",
        "    print(\"Invalid input! Please enter numeric values.\")\n",
        "except ZeroDivisionError:\n",
        "    print(\"Division by zero is not allowed.\")\n",
        "else:\n",
        "    print(\"Result of division:\", result)\n"
      ],
      "metadata": {
        "id": "yjdc1zM1eMAs",
        "colab": {
          "base_uri": "https://localhost:8080/"
        },
        "outputId": "ff61ee1e-3b6a-4bf1-8578-d01a11fcf66f"
      },
      "execution_count": 35,
      "outputs": [
        {
          "output_type": "stream",
          "name": "stdout",
          "text": [
            "Enter the first number: 26\n",
            "Enter the second number: 11\n",
            "Result of division: 2.3636363636363638\n"
          ]
        }
      ]
    },
    {
      "cell_type": "markdown",
      "source": [
        "# Mandatory Question"
      ],
      "metadata": {
        "id": "sZOhks1dXWEe"
      }
    },
    {
      "cell_type": "markdown",
      "source": [
        "**Important:**\n",
        "Reflecting on the first three lectures and the exercises you've completed, please provide feedback on your learning experience. Share your thoughts on whether the material covered was clear, the exercises were helpful, and if you feel more confident in applying Python programming concepts. Additionally, mention any specific areas where you would like more clarification or topics you would like to explore further in future lectures. Your feedback is valuable in shaping the course for an effective learning journey."
      ],
      "metadata": {
        "id": "eqmHVEwaWhbV"
      }
    },
    {
      "cell_type": "code",
      "source": [
        "'''\n",
        "Referring to the first three lectures and exercises completed, I discovered the material to be largely comprehensible and well-organized. The lectures provided a great introduction to the principles of Python programming, and the guide step-by-step enabled me to understand the essentials such as data types, control structures, functions, and basic object-oriented programming.\n",
        "\n",
        "Exercises were particularly helpful in reinforcing the subject matter covered in class. By implementing what I have learned from hands-on coding, I am now more confident to code Python programs, handling exceptions, and coding functions and classes. They also helped me identify areas where I need to practice further, such as handling loops and string/list manipulation.\n",
        "\n",
        "One of the things I would like more detail on is object-oriented programming, specifically how inheritance, polymorphism, and method overriding function through more complex examples. I would also like to learn more about file handling, modules, and libraries, as well as more applied problem-solving exercises in Python to see how these concepts are applied in the real world.\n",
        "\n",
        "Overall, sessions one to three provided a good foundation, and I am looking to build on this using this knowledge in later sessions. The mixture of good explanations and practical exercises has worked well to build my confidence with Python programming.\n",
        "'''"
      ],
      "metadata": {
        "id": "akAVJn9YBTQT",
        "colab": {
          "base_uri": "https://localhost:8080/",
          "height": 70
        },
        "outputId": "c5d12fb1-c43f-4a45-978f-01fd58969ba5"
      },
      "execution_count": 36,
      "outputs": [
        {
          "output_type": "execute_result",
          "data": {
            "text/plain": [
              "'\\nReferring to the first three lectures and exercises completed, I discovered the material to be largely comprehensible and well-organized. The lectures provided a great introduction to the principles of Python programming, and the guide step-by-step enabled me to understand the essentials such as data types, control structures, functions, and basic object-oriented programming.\\n\\nExercises were particularly helpful in reinforcing the subject matter covered in class. By implementing what I have learned from hands-on coding, I am now more confident to code Python programs, handling exceptions, and coding functions and classes. They also helped me identify areas where I need to practice further, such as handling loops and string/list manipulation.\\n\\nOne of the things I would like more detail on is object-oriented programming, specifically how inheritance, polymorphism, and method overriding function through more complex examples. I would also like to learn more about file handling, modules, and libraries, as well as more applied problem-solving exercises in Python to see how these concepts are applied in the real world.\\n\\nOverall, sessions one to three provided a good foundation, and I am looking to build on this using this knowledge in later sessions. The mixture of good explanations and practical exercises has worked well to build my confidence with Python programming.\\n'"
            ],
            "application/vnd.google.colaboratory.intrinsic+json": {
              "type": "string"
            }
          },
          "metadata": {},
          "execution_count": 36
        }
      ]
    }
  ],
  "metadata": {
    "colab": {
      "provenance": [],
      "collapsed_sections": [
        "FBKvD6O_TY6e",
        "E9RqrlwdTfvl",
        "03jb4GZsBkBS",
        "jJDe71iLB616",
        "55W9AMdXCSpV",
        "4ulBZ6yhCi9F",
        "6SmvS7nSfbj8",
        "sZOhks1dXWEe"
      ],
      "include_colab_link": true
    },
    "kernelspec": {
      "display_name": "Python 3 (ipykernel)",
      "language": "python",
      "name": "python3"
    },
    "language_info": {
      "codemirror_mode": {
        "name": "ipython",
        "version": 3
      },
      "file_extension": ".py",
      "mimetype": "text/x-python",
      "name": "python",
      "nbconvert_exporter": "python",
      "pygments_lexer": "ipython3",
      "version": "3.9.12"
    }
  },
  "nbformat": 4,
  "nbformat_minor": 0
}